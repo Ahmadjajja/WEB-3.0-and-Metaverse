# A list with 3 integrs
numbers=[3,4,5]
print (numbers)
numtuple=2,4,5,7,8,10
print(numtuple [:3])
print(numtuple [4:])
print(numtuple [-3:])
print(numtuple [2:5])
#dictionary with key values of different data types
nnumber= {1:"One",2:"Two",3:"Three"}
print (numbers)
#if
a=2
b=30
if b > a:
    print("b is greater than a")
#ifelse
a=330
b=334
if a > b:
  print("a and b  are not equal")
else:
    print("a aand  b are equall")
#nested if
x=41
y=50
if x > y:
    print("Above ten")
elif x < y:
    print("ab also above 20!",)
else:
    print("but not above 20")
def my_function():
  print("Hello from a function")

my_function()
if (cond1 AND/OR COND2) AND/OR (cond3 AND/OR cond4):
    code1
else:
    code2
